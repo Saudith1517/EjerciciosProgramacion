{
 "cells": [
  {
   "cell_type": "code",
   "execution_count": 1,
   "id": "36181637",
   "metadata": {},
   "outputs": [
    {
     "name": "stdout",
     "output_type": "stream",
     "text": [
      "The Zen of Python, by Tim Peters\n",
      "\n",
      "Beautiful is better than ugly.\n",
      "Explicit is better than implicit.\n",
      "Simple is better than complex.\n",
      "Complex is better than complicated.\n",
      "Flat is better than nested.\n",
      "Sparse is better than dense.\n",
      "Readability counts.\n",
      "Special cases aren't special enough to break the rules.\n",
      "Although practicality beats purity.\n",
      "Errors should never pass silently.\n",
      "Unless explicitly silenced.\n",
      "In the face of ambiguity, refuse the temptation to guess.\n",
      "There should be one-- and preferably only one --obvious way to do it.\n",
      "Although that way may not be obvious at first unless you're Dutch.\n",
      "Now is better than never.\n",
      "Although never is often better than *right* now.\n",
      "If the implementation is hard to explain, it's a bad idea.\n",
      "If the implementation is easy to explain, it may be a good idea.\n",
      "Namespaces are one honking great idea -- let's do more of those!\n"
     ]
    }
   ],
   "source": [
    "import this"
   ]
  },
  {
   "cell_type": "markdown",
   "id": "7f13140b",
   "metadata": {},
   "source": [
    "## Variables\n",
    "\n",
    "Empezaremos hablando de algunas instrucciones elementales de Python, crearemos nuestros primeros programas, también llamdos scripts que posteriormente serán interpretados. Mencionaremos algunos tipos elementales de datos y los guardaremos en un espacio de memoría mediante variables para transformarlos y generar nueva información.\n",
    "\n",
    "Veamos algunos tipos de datos e interactuamos"
   ]
  },
  {
   "cell_type": "code",
   "execution_count": 3,
   "id": "89ba80ed",
   "metadata": {},
   "outputs": [
    {
     "data": {
      "text/plain": [
       "8"
      ]
     },
     "execution_count": 3,
     "metadata": {},
     "output_type": "execute_result"
    }
   ],
   "source": [
    "## números Enteros\n",
    "\n",
    "8"
   ]
  },
  {
   "cell_type": "code",
   "execution_count": 4,
   "id": "e7645dad",
   "metadata": {},
   "outputs": [
    {
     "data": {
      "text/plain": [
       "int"
      ]
     },
     "execution_count": 4,
     "metadata": {},
     "output_type": "execute_result"
    }
   ],
   "source": [
    "type(8)"
   ]
  },
  {
   "cell_type": "code",
   "execution_count": 5,
   "id": "d46ae1a5",
   "metadata": {},
   "outputs": [
    {
     "data": {
      "text/plain": [
       "3.5"
      ]
     },
     "execution_count": 5,
     "metadata": {},
     "output_type": "execute_result"
    }
   ],
   "source": [
    "## Decimales\n",
    "\n",
    "3.5"
   ]
  },
  {
   "cell_type": "code",
   "execution_count": 6,
   "id": "48ae5910",
   "metadata": {},
   "outputs": [
    {
     "data": {
      "text/plain": [
       "float"
      ]
     },
     "execution_count": 6,
     "metadata": {},
     "output_type": "execute_result"
    }
   ],
   "source": [
    "type(3.5)"
   ]
  },
  {
   "cell_type": "code",
   "execution_count": 7,
   "id": "3cc0817b",
   "metadata": {},
   "outputs": [
    {
     "data": {
      "text/plain": [
       "float"
      ]
     },
     "execution_count": 7,
     "metadata": {},
     "output_type": "execute_result"
    }
   ],
   "source": [
    "## recuerde que hay numeros negativos\n",
    "\n",
    "type(-2.5)"
   ]
  },
  {
   "cell_type": "code",
   "execution_count": 8,
   "id": "4af0bc8a",
   "metadata": {},
   "outputs": [
    {
     "data": {
      "text/plain": [
       "int"
      ]
     },
     "execution_count": 8,
     "metadata": {},
     "output_type": "execute_result"
    }
   ],
   "source": [
    "type(-15)"
   ]
  },
  {
   "cell_type": "markdown",
   "id": "e22313a1",
   "metadata": {},
   "source": [
    "Los números interactuan con nosotros de diferentes maneras, pero las más importantes es a través de sus operaciones"
   ]
  },
  {
   "cell_type": "code",
   "execution_count": null,
   "id": "c20055b7",
   "metadata": {},
   "outputs": [],
   "source": [
    "# suma\n",
    "\n"
   ]
  },
  {
   "cell_type": "code",
   "execution_count": 10,
   "id": "e657c740",
   "metadata": {},
   "outputs": [
    {
     "data": {
      "text/plain": [
       "7.2"
      ]
     },
     "execution_count": 10,
     "metadata": {},
     "output_type": "execute_result"
    }
   ],
   "source": [
    "3.2+4"
   ]
  },
  {
   "cell_type": "code",
   "execution_count": 11,
   "id": "c1c78a16",
   "metadata": {},
   "outputs": [
    {
     "data": {
      "text/plain": [
       "float"
      ]
     },
     "execution_count": 11,
     "metadata": {},
     "output_type": "execute_result"
    }
   ],
   "source": [
    "type(3.2+4)"
   ]
  },
  {
   "cell_type": "code",
   "execution_count": 12,
   "id": "d92d690c",
   "metadata": {},
   "outputs": [
    {
     "data": {
      "text/plain": [
       "-1"
      ]
     },
     "execution_count": 12,
     "metadata": {},
     "output_type": "execute_result"
    }
   ],
   "source": [
    "# Resta\n",
    "\n",
    "1-2"
   ]
  },
  {
   "cell_type": "code",
   "execution_count": 15,
   "id": "d8552e0b",
   "metadata": {},
   "outputs": [
    {
     "data": {
      "text/plain": [
       "20"
      ]
     },
     "execution_count": 15,
     "metadata": {},
     "output_type": "execute_result"
    }
   ],
   "source": [
    "# multiplicación\n",
    "\n",
    "4*5"
   ]
  },
  {
   "cell_type": "code",
   "execution_count": 14,
   "id": "f52f0d92",
   "metadata": {},
   "outputs": [
    {
     "data": {
      "text/plain": [
       "2.0"
      ]
     },
     "execution_count": 14,
     "metadata": {},
     "output_type": "execute_result"
    }
   ],
   "source": [
    "# División\n",
    "\n",
    "6/3"
   ]
  },
  {
   "cell_type": "code",
   "execution_count": 17,
   "id": "f16d4962",
   "metadata": {},
   "outputs": [
    {
     "data": {
      "text/plain": [
       "0.5"
      ]
     },
     "execution_count": 17,
     "metadata": {},
     "output_type": "execute_result"
    }
   ],
   "source": [
    "1/2"
   ]
  },
  {
   "cell_type": "code",
   "execution_count": 22,
   "id": "ce0b9ffc",
   "metadata": {},
   "outputs": [
    {
     "name": "stdout",
     "output_type": "stream",
     "text": [
      "9\n",
      "1\n",
      "20\n",
      "0.5\n",
      "2.0\n"
     ]
    }
   ],
   "source": [
    "print(4+5)\n",
    "print(3-2)\n",
    "print(4*5)\n",
    "print(1/2)\n",
    "print(4/2)"
   ]
  },
  {
   "cell_type": "code",
   "execution_count": 23,
   "id": "4353fe95",
   "metadata": {},
   "outputs": [
    {
     "data": {
      "text/plain": [
       "8"
      ]
     },
     "execution_count": 23,
     "metadata": {},
     "output_type": "execute_result"
    }
   ],
   "source": [
    "# Potencia\n",
    "\n",
    "2**3"
   ]
  },
  {
   "cell_type": "code",
   "execution_count": 24,
   "id": "df136b7a",
   "metadata": {},
   "outputs": [
    {
     "data": {
      "text/plain": [
       "5.0"
      ]
     },
     "execution_count": 24,
     "metadata": {},
     "output_type": "execute_result"
    }
   ],
   "source": [
    "# Raices (Potencia de fracciones)\n",
    "\n",
    "25**(1/2)"
   ]
  },
  {
   "cell_type": "code",
   "execution_count": 25,
   "id": "98db12ff",
   "metadata": {},
   "outputs": [
    {
     "data": {
      "text/plain": [
       "6"
      ]
     },
     "execution_count": 25,
     "metadata": {},
     "output_type": "execute_result"
    }
   ],
   "source": [
    "## División Entera (Cociente)\n",
    "\n",
    "20//3"
   ]
  },
  {
   "cell_type": "code",
   "execution_count": 26,
   "id": "99819be2",
   "metadata": {},
   "outputs": [
    {
     "data": {
      "text/plain": [
       "2"
      ]
     },
     "execution_count": 26,
     "metadata": {},
     "output_type": "execute_result"
    }
   ],
   "source": [
    "## Disión Entera (Residuo)\n",
    "\n",
    "20%3"
   ]
  },
  {
   "cell_type": "code",
   "execution_count": 28,
   "id": "f821e2ba",
   "metadata": {},
   "outputs": [
    {
     "data": {
      "text/plain": [
       "30.0"
      ]
     },
     "execution_count": 28,
     "metadata": {},
     "output_type": "execute_result"
    }
   ],
   "source": [
    "0.15*200 #Aquí calculamos el 15% de 200"
   ]
  },
  {
   "cell_type": "code",
   "execution_count": 29,
   "id": "e0708291",
   "metadata": {},
   "outputs": [
    {
     "data": {
      "text/plain": [
       "36.0"
      ]
     },
     "execution_count": 29,
     "metadata": {},
     "output_type": "execute_result"
    }
   ],
   "source": [
    "0.45*80 #Aquí calculamos el 45% de 80 cuidado con el operador residuo"
   ]
  },
  {
   "cell_type": "markdown",
   "id": "cd31e06c",
   "metadata": {},
   "source": [
    "### Cadenas de caracteres o strings\n",
    "\n",
    "Corresponde a las cadenas de texto, para evitar confucion con las diferentes funciones y/o variables de python se almacenan entre comillas dobles o simples:"
   ]
  },
  {
   "cell_type": "code",
   "execution_count": 32,
   "id": "020feb9d",
   "metadata": {},
   "outputs": [
    {
     "data": {
      "text/plain": [
       "'Hola externadista'"
      ]
     },
     "execution_count": 32,
     "metadata": {},
     "output_type": "execute_result"
    }
   ],
   "source": [
    "\"Hola externadista\""
   ]
  },
  {
   "cell_type": "code",
   "execution_count": 33,
   "id": "32983389",
   "metadata": {},
   "outputs": [
    {
     "name": "stdout",
     "output_type": "stream",
     "text": [
      "Hola externadista\n"
     ]
    }
   ],
   "source": [
    "print('Hola externadista')"
   ]
  },
  {
   "cell_type": "code",
   "execution_count": 34,
   "id": "7a4ab6f2",
   "metadata": {},
   "outputs": [
    {
     "data": {
      "text/plain": [
       "'Hola----Externado'"
      ]
     },
     "execution_count": 34,
     "metadata": {},
     "output_type": "execute_result"
    }
   ],
   "source": [
    "# Operaciones entre textos(suma - concatenación)\n",
    "\n",
    "\"Hola\"+\"----\"+\"Externado\""
   ]
  },
  {
   "cell_type": "markdown",
   "id": "0bceb7cb",
   "metadata": {},
   "source": [
    "## Variables\n",
    "\n",
    "Sirven para guardar información en Python, tranajan de la siguiente manera:\n",
    " \n",
    " [Nombre_Variable]=[Valor_de_la Variable]"
   ]
  },
  {
   "cell_type": "code",
   "execution_count": 39,
   "id": "ffefd25b",
   "metadata": {},
   "outputs": [],
   "source": [
    "x=20"
   ]
  },
  {
   "cell_type": "code",
   "execution_count": 40,
   "id": "8839384a",
   "metadata": {},
   "outputs": [
    {
     "data": {
      "text/plain": [
       "22"
      ]
     },
     "execution_count": 40,
     "metadata": {},
     "output_type": "execute_result"
    }
   ],
   "source": [
    "x+2"
   ]
  },
  {
   "cell_type": "code",
   "execution_count": 41,
   "id": "e23944da",
   "metadata": {},
   "outputs": [
    {
     "data": {
      "text/plain": [
       "12"
      ]
     },
     "execution_count": 41,
     "metadata": {},
     "output_type": "execute_result"
    }
   ],
   "source": [
    "x-8"
   ]
  },
  {
   "cell_type": "code",
   "execution_count": null,
   "id": "c006d0bc",
   "metadata": {},
   "outputs": [],
   "source": []
  }
 ],
 "metadata": {
  "kernelspec": {
   "display_name": "Python 3 (ipykernel)",
   "language": "python",
   "name": "python3"
  },
  "language_info": {
   "codemirror_mode": {
    "name": "ipython",
    "version": 3
   },
   "file_extension": ".py",
   "mimetype": "text/x-python",
   "name": "python",
   "nbconvert_exporter": "python",
   "pygments_lexer": "ipython3",
   "version": "3.9.7"
  }
 },
 "nbformat": 4,
 "nbformat_minor": 5
}
