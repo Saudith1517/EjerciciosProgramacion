{
 "cells": [
  {
   "cell_type": "markdown",
   "id": "d546f7be-900a-4201-bd18-464c1ee6ac3e",
   "metadata": {},
   "source": [
    "# Clase 5\n",
    "\n",
    "**Primeros scrips**\n",
    "\n",
    "Vamos a definir en una celda tres variables una que contenga mi nombre, una que comntenga mi edad y otra que muesstre el porcentaje de la semana que utilizo oara mi curso de programación"
   ]
  },
  {
   "cell_type": "markdown",
   "id": "2a0ced2b-38b4-4c2a-8165-f7b7fa552ed7",
   "metadata": {},
   "source": [
    "## Método `format` para cadenas \n",
    "\n",
    "Veamos como podemos crer formatos en textos"
   ]
  },
  {
   "cell_type": "code",
   "execution_count": 15,
   "id": "6eb08429-8b51-491f-879a-b1a73b1c8a10",
   "metadata": {},
   "outputs": [],
   "source": [
    "Nombre='Saudith Perdomo Dueñas'\n",
    "Edad=17\n",
    "Por_prog=(4+2)/(24*5)"
   ]
  },
  {
   "cell_type": "code",
   "execution_count": 16,
   "id": "c9161afe-e24d-4f8b-af84-1ee26163fa32",
   "metadata": {},
   "outputs": [
    {
     "data": {
      "text/plain": [
       "'Mi nombre es Saudith Perdomo Dueñas, tengo 17 años y soy externadista'"
      ]
     },
     "execution_count": 16,
     "metadata": {},
     "output_type": "execute_result"
    }
   ],
   "source": [
    "texto1='Mi nombre es {}, tengo {} años y soy externadista'.format(Nombre,edad)\n",
    "texto1"
   ]
  },
  {
   "cell_type": "code",
   "execution_count": 17,
   "id": "72d717d6-c68d-4fd6-88ba-4409f3ca9fce",
   "metadata": {},
   "outputs": [
    {
     "data": {
      "text/plain": [
       "'Mi nombre es Saudith Perdomo Dueñas, tengo 17 años y soy externadista'"
      ]
     },
     "execution_count": 17,
     "metadata": {},
     "output_type": "execute_result"
    }
   ],
   "source": [
    "texto1='Mi nombre es {nombre}, tengo {edad} años y soy externadista'.format(nombre=Nombre,edad=Edad)\n",
    "texto1"
   ]
  },
  {
   "cell_type": "code",
   "execution_count": 23,
   "id": "1ee6f3a3-f57a-4361-846a-e3d2f57f9237",
   "metadata": {},
   "outputs": [
    {
     "data": {
      "text/plain": [
       "'Mi nombre es Saudith Perdomo Dueñas, tengo 17 años y soy externadista y dedico el 5.0% de mi semana a programación'"
      ]
     },
     "execution_count": 23,
     "metadata": {},
     "output_type": "execute_result"
    }
   ],
   "source": [
    "texto2='Mi nombre es {nombre}, tengo {edad} años y soy externadista y dedico el {porcentaje:.1%} de mi semana a programación'.format(nombre=Nombre,edad=Edad,porcentaje=Por_prog)\n",
    "texto2"
   ]
  },
  {
   "cell_type": "code",
   "execution_count": 29,
   "id": "3287c624-0dd3-432d-92df-1b3ee6dad322",
   "metadata": {},
   "outputs": [
    {
     "name": "stdout",
     "output_type": "stream",
     "text": [
      "Nombre:        Saudith Perdomo Dueñas\n",
      "Edad:                            17\n"
     ]
    }
   ],
   "source": [
    "texto3='Nombre:{nombre:>30}\\nEdad:{edad:>30}'.format(nombre=Nombre,edad=Edad)\n",
    "print(texto3)"
   ]
  },
  {
   "cell_type": "code",
   "execution_count": 32,
   "id": "bf858816-cedb-45a3-9f08-9425393a85e4",
   "metadata": {},
   "outputs": [
    {
     "name": "stdout",
     "output_type": "stream",
     "text": [
      "Saudith Perdomo Dueñas        :Nombre\n",
      "17                            :Edad\n"
     ]
    }
   ],
   "source": [
    "texto3='{nombre:<30}:Nombre\\n{edad:<30}:Edad'.format(nombre=Nombre,edad=Edad)\n",
    "print(texto3)"
   ]
  },
  {
   "cell_type": "code",
   "execution_count": 36,
   "id": "536916c0-e3f2-4475-af6a-e891d04da920",
   "metadata": {},
   "outputs": [
    {
     "name": "stdout",
     "output_type": "stream",
     "text": [
      "    Saudith Perdomo Dueñas    \n",
      "              17              \n"
     ]
    }
   ],
   "source": [
    "texto4='{nombre:^30}\\n{edad:^30}'.format(nombre=Nombre,edad=Edad)\n",
    "print(texto4)"
   ]
  },
  {
   "cell_type": "code",
   "execution_count": 40,
   "id": "3577c89c-60b8-42a2-b8be-91ffa3f97675",
   "metadata": {},
   "outputs": [
    {
     "name": "stdout",
     "output_type": "stream",
     "text": [
      "El boleto para Bad Bunny valió $22,000,000\n"
     ]
    }
   ],
   "source": [
    "texto5='El boleto para Bad Bunny valió ${boleto:,}'.format(boleto=22000000)\n",
    "print(texto5)"
   ]
  },
  {
   "cell_type": "code",
   "execution_count": 41,
   "id": "8d47ea57-b6e7-4577-9f9c-2b10bb5ea2a3",
   "metadata": {},
   "outputs": [
    {
     "name": "stdout",
     "output_type": "stream",
     "text": [
      "En binario tengo 10001\n"
     ]
    }
   ],
   "source": [
    "texto6='En binario tengo {edad:b}'.format(edad=Edad)\n",
    "print(texto6)"
   ]
  },
  {
   "cell_type": "markdown",
   "id": "973cf739-0e4d-4408-b6f3-155edb477f65",
   "metadata": {},
   "source": [
    "## Más metodos de cadenas de carctéres\n",
    "\n",
    "Veamos una lista de métodos e intentemos definir que hace cada una:"
   ]
  },
  {
   "cell_type": "code",
   "execution_count": 43,
   "id": "92ad3f39-7b73-4fc5-bb50-ade05bff9567",
   "metadata": {},
   "outputs": [
    {
     "name": "stdout",
     "output_type": "stream",
     "text": [
      "Hola\n"
     ]
    }
   ],
   "source": [
    "texto7='hola'.capitalize() #pone mayúscula inicial\n",
    "print(texto7)"
   ]
  },
  {
   "cell_type": "code",
   "execution_count": 47,
   "id": "ab4e33de-4c6a-4c19-b621-24d66bfb96b5",
   "metadata": {},
   "outputs": [
    {
     "name": "stdout",
     "output_type": "stream",
     "text": [
      "en el monte de la china una china se perdio\n"
     ]
    }
   ],
   "source": [
    "texto8='En el Monte de la China una china SE PErDIO'.casefold() #pone todo en minuscula\n",
    "print(texto8)"
   ]
  },
  {
   "cell_type": "code",
   "execution_count": 49,
   "id": "88e3f8af-b6f9-432d-89f3-d63d979c1ae8",
   "metadata": {},
   "outputs": [
    {
     "name": "stdout",
     "output_type": "stream",
     "text": [
      "EN EL MONTE DE LA CHINA UNA CHINA SE PERDIO\n"
     ]
    }
   ],
   "source": [
    "texto9='En el Monte de la China una china SE PErDIO'.upper() #pone todo en mayúscula\n",
    "print(texto9)"
   ]
  },
  {
   "cell_type": "code",
   "execution_count": 51,
   "id": "1a0f5d31-9eaf-4c3f-9678-a60ac3acf853",
   "metadata": {},
   "outputs": [
    {
     "name": "stdout",
     "output_type": "stream",
     "text": [
      "en el monte de la china una china se perdio\n"
     ]
    }
   ],
   "source": [
    "texto10='En el Monte de la China una china SE PErDIO'.lower() #pone todo en minuscula\n",
    "print(texto10)"
   ]
  },
  {
   "cell_type": "code",
   "execution_count": 53,
   "id": "2f02a333-3fa4-421a-aee9-1773f854fc44",
   "metadata": {},
   "outputs": [
    {
     "name": "stdout",
     "output_type": "stream",
     "text": [
      "En el Monte de lx-x Chinx-x unx-x chinx-x SE PErDIO\n"
     ]
    }
   ],
   "source": [
    "texto11='En el Monte de la China una china SE PErDIO'.replace('a','x-x') #reemplazo las 'a' por x-x\n",
    "print(texto11)"
   ]
  },
  {
   "cell_type": "code",
   "execution_count": 54,
   "id": "d8a2bd65-f1b9-459e-a9c5-07a77656779f",
   "metadata": {},
   "outputs": [
    {
     "name": "stdout",
     "output_type": "stream",
     "text": [
      "eN EL mONTE DE LA cHINA UNA CHINA se peRdio\n"
     ]
    }
   ],
   "source": [
    "texto12='En el Monte de la China una china SE PErDIO'.swapcase() #cambia las minisculas por mayusculas\n",
    "print(texto12)"
   ]
  },
  {
   "cell_type": "code",
   "execution_count": 55,
   "id": "b1937a39-3105-4c02-9193-2ad598098b23",
   "metadata": {},
   "outputs": [
    {
     "name": "stdout",
     "output_type": "stream",
     "text": [
      "                            En el Monte de la China una china SE PErDIO                             \n"
     ]
    }
   ],
   "source": [
    "texto13='En el Monte de la China una china SE PErDIO'.center(100) #centra el texto\n",
    "print(texto13)"
   ]
  },
  {
   "cell_type": "markdown",
   "id": "e14c1fac-e0a5-4dfa-becd-cc4dcb460a39",
   "metadata": {},
   "source": [
    "Otros métodos"
   ]
  },
  {
   "cell_type": "code",
   "execution_count": 58,
   "id": "bf8884c2-b66a-45e0-8cd2-5ec51399c039",
   "metadata": {},
   "outputs": [
    {
     "name": "stdout",
     "output_type": "stream",
     "text": [
      "2\n"
     ]
    }
   ],
   "source": [
    "x1='Las bananas son ricas en potasio'.count('an') #cuantas veces aparece el 'an'\n",
    "print(x1)"
   ]
  },
  {
   "cell_type": "code",
   "execution_count": 60,
   "id": "39515084-9864-4963-97a9-223d26e2221c",
   "metadata": {},
   "outputs": [
    {
     "name": "stdout",
     "output_type": "stream",
     "text": [
      "16\n"
     ]
    }
   ],
   "source": [
    "x2='En el externado soy muy feliz'.find('soy') #en que posición comienza la palabra\n",
    "print(x2)"
   ]
  },
  {
   "cell_type": "code",
   "execution_count": 62,
   "id": "67ff2f5e-41e5-4251-b5b6-dc548564708c",
   "metadata": {},
   "outputs": [
    {
     "name": "stdout",
     "output_type": "stream",
     "text": [
      "0\n"
     ]
    }
   ],
   "source": [
    "x3='En el externado soy muy feliz'.find('En')\n",
    "print(x3)"
   ]
  },
  {
   "cell_type": "code",
   "execution_count": 63,
   "id": "4afff1ef-cc12-4bb7-aaa0-dc38a91c017e",
   "metadata": {},
   "outputs": [
    {
     "name": "stdout",
     "output_type": "stream",
     "text": [
      "3\n"
     ]
    }
   ],
   "source": [
    "x4='En el externado soy muy feliz'.find('el')\n",
    "print(x4)"
   ]
  },
  {
   "cell_type": "code",
   "execution_count": 65,
   "id": "4cdea052-b11c-48b9-b63e-4b079f3da961",
   "metadata": {},
   "outputs": [
    {
     "name": "stdout",
     "output_type": "stream",
     "text": [
      "6\n"
     ]
    }
   ],
   "source": [
    "x5='En el Externado soy muy feliz'.find('Externado')\n",
    "print(x5)"
   ]
  },
  {
   "cell_type": "code",
   "execution_count": 66,
   "id": "4d1bbdd1-afd5-4d14-90c2-8ae8875ceb7a",
   "metadata": {},
   "outputs": [
    {
     "name": "stdout",
     "output_type": "stream",
     "text": [
      "16\n"
     ]
    }
   ],
   "source": [
    "x6='En el Externado soy muy feliz'.find('soy')\n",
    "print(x6)"
   ]
  },
  {
   "cell_type": "markdown",
   "id": "e9d44d19-930c-497a-a02a-bf63f2aa1983",
   "metadata": {},
   "source": [
    "En python los textos son arreglos, o más bien secuencias ordenadas de caracteres. Cada texto tiene un orden según la aparción de cada carcter."
   ]
  },
  {
   "cell_type": "code",
   "execution_count": 68,
   "id": "37da90b6-fcfc-48ed-9cf6-8763bb236805",
   "metadata": {},
   "outputs": [],
   "source": [
    "texto_normal='0123456789'"
   ]
  },
  {
   "cell_type": "code",
   "execution_count": 72,
   "id": "3a74c01f-f681-482f-97d6-af53adc22aca",
   "metadata": {},
   "outputs": [
    {
     "data": {
      "text/plain": [
       "'0'"
      ]
     },
     "execution_count": 72,
     "metadata": {},
     "output_type": "execute_result"
    }
   ],
   "source": [
    "texto_normal[0] #identifico a cada carcter em esa lista con paréntesis cuadrados"
   ]
  },
  {
   "cell_type": "code",
   "execution_count": 70,
   "id": "c7f5c8e1-2d64-4f8c-af4c-449556558248",
   "metadata": {},
   "outputs": [
    {
     "data": {
      "text/plain": [
       "'4'"
      ]
     },
     "execution_count": 70,
     "metadata": {},
     "output_type": "execute_result"
    }
   ],
   "source": [
    "texto_normal[4]"
   ]
  },
  {
   "cell_type": "code",
   "execution_count": 74,
   "id": "8aee6b44-722c-41dc-beb6-5f9fd2533118",
   "metadata": {},
   "outputs": [
    {
     "data": {
      "text/plain": [
       "'0123'"
      ]
     },
     "execution_count": 74,
     "metadata": {},
     "output_type": "execute_result"
    }
   ],
   "source": [
    "texto_normal[0:4] # Los dos valores separados por dos puntosindican un rango en el texto, inicia en el primero y termina uno antes que el segumdo"
   ]
  },
  {
   "cell_type": "code",
   "execution_count": 76,
   "id": "ebab3ed4-d118-490f-a04b-7e7bfc57344e",
   "metadata": {},
   "outputs": [
    {
     "data": {
      "text/plain": [
       "'45678'"
      ]
     },
     "execution_count": 76,
     "metadata": {},
     "output_type": "execute_result"
    }
   ],
   "source": [
    "texto_normal[4:9]"
   ]
  },
  {
   "cell_type": "code",
   "execution_count": 80,
   "id": "d1464d86-2fb6-4a98-90fc-3572b4ce63f9",
   "metadata": {},
   "outputs": [],
   "source": [
    "texto='Colombia verá Qatar 2022 desde la sala de la casa'"
   ]
  },
  {
   "cell_type": "code",
   "execution_count": 81,
   "id": "ed29bc98-0883-4ca1-8850-3102800844e0",
   "metadata": {},
   "outputs": [
    {
     "data": {
      "text/plain": [
       "'bia verá Qatar '"
      ]
     },
     "execution_count": 81,
     "metadata": {},
     "output_type": "execute_result"
    }
   ],
   "source": [
    "texto[5:20]"
   ]
  },
  {
   "cell_type": "markdown",
   "id": "e46feb9d-bebb-441e-8cd7-8fb0dab21dcf",
   "metadata": {},
   "source": [
    "### Función `input`"
   ]
  },
  {
   "cell_type": "code",
   "execution_count": 82,
   "id": "e3bad232-ef6a-42d1-80bf-c676bed66e5b",
   "metadata": {},
   "outputs": [
    {
     "name": "stdin",
     "output_type": "stream",
     "text": [
      "Escriba un texto aquí 4\n"
     ]
    },
    {
     "name": "stdout",
     "output_type": "stream",
     "text": [
      "4\n",
      "<class 'str'>\n"
     ]
    }
   ],
   "source": [
    "txt=input('Escriba un texto aquí')\n",
    "print(txt)\n",
    "print(type(txt))"
   ]
  },
  {
   "cell_type": "markdown",
   "id": "d02b8aa6-cc4f-4956-83d7-cf02223740ba",
   "metadata": {},
   "source": [
    "Claramente `input` permite que le usuario pueda ingresar texto, ese texto siempre se guardara como cadena de caractéres y si se quiere cambiar debe utilizarse una función adecuada:"
   ]
  },
  {
   "cell_type": "code",
   "execution_count": 85,
   "id": "6819cbaf-4e42-4844-abd2-64b8fd069a20",
   "metadata": {},
   "outputs": [
    {
     "name": "stdin",
     "output_type": "stream",
     "text": [
      "Ingrese su nombre:  Saudith\n",
      "Ingrese su edad:  17\n"
     ]
    },
    {
     "name": "stdout",
     "output_type": "stream",
     "text": [
      "En el 2023 Saudith, tendrá 18 años\n"
     ]
    }
   ],
   "source": [
    "txt=input('Ingrese su nombre: ')\n",
    "age=input('Ingrese su edad: ')\n",
    "age=int(age)\n",
    "print('En el 2023 {nombre}, tendrá {edad} años'.format(nombre=txt,edad=age+1))"
   ]
  },
  {
   "cell_type": "code",
   "execution_count": null,
   "id": "40979451-eaf8-449d-aa8d-0986fea4b27d",
   "metadata": {},
   "outputs": [],
   "source": []
  }
 ],
 "metadata": {
  "kernelspec": {
   "display_name": "Python 3 (ipykernel)",
   "language": "python",
   "name": "python3"
  },
  "language_info": {
   "codemirror_mode": {
    "name": "ipython",
    "version": 3
   },
   "file_extension": ".py",
   "mimetype": "text/x-python",
   "name": "python",
   "nbconvert_exporter": "python",
   "pygments_lexer": "ipython3",
   "version": "3.9.7"
  }
 },
 "nbformat": 4,
 "nbformat_minor": 5
}
